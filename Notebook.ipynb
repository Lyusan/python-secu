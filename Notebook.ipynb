{
 "cells": [
  {
   "cell_type": "markdown",
   "metadata": {},
   "source": [
    "# SPAM detection\n",
    "\n",
    "This project is about SPAM detection. First We need to get some data to explore the different possibility of spam detection.\n",
    "\n",
    "I found a dataset from kaggle a famous web site which organise machine learning competition. The dataset contain dataset from SMS communication.\n",
    "\n",
    "Source of data: https://www.kaggle.com/uciml/sms-spam-collection-dataset\n",
    "\n",
    "\n",
    "## Load Data \n",
    "\n",
    "First we need to load and to extract some basic information from the dataset."
   ]
  },
  {
   "cell_type": "code",
   "execution_count": 1,
   "metadata": {},
   "outputs": [],
   "source": [
    "# Load data into a pandas DataFrame \n",
    "import pandas as pd\n",
    "import seaborn as sns\n",
    "df = pd.read_csv('./data/spam.csv', \n",
    "                 encoding='latin-1')\n"
   ]
  },
  {
   "cell_type": "markdown",
   "metadata": {},
   "source": [
    "## Basic analyse of the data"
   ]
  },
  {
   "cell_type": "code",
   "execution_count": 2,
   "metadata": {},
   "outputs": [
    {
     "name": "stdout",
     "output_type": "stream",
     "text": [
      "Dataframe information:\n",
      "<class 'pandas.core.frame.DataFrame'>\n",
      "RangeIndex: 5572 entries, 0 to 5571\n",
      "Data columns (total 5 columns):\n",
      "v1            5572 non-null object\n",
      "v2            5572 non-null object\n",
      "Unnamed: 2    50 non-null object\n",
      "Unnamed: 3    12 non-null object\n",
      "Unnamed: 4    6 non-null object\n",
      "dtypes: object(5)\n",
      "memory usage: 217.7+ KB\n",
      "Dataframe five first lines:\n",
      "Info about the spam information:\n"
     ]
    },
    {
     "data": {
      "text/plain": [
       "count     5572\n",
       "unique       2\n",
       "top        ham\n",
       "freq      4825\n",
       "Name: v1, dtype: object"
      ]
     },
     "execution_count": 2,
     "metadata": {},
     "output_type": "execute_result"
    }
   ],
   "source": [
    "print(\"Dataframe information:\")\n",
    "df.info()\n",
    "print(\"Dataframe five first lines:\")\n",
    "df.head()\n",
    "print(\"Info about the spam information:\")\n",
    "df[\"v1\"].describe()"
   ]
  },
  {
   "cell_type": "markdown",
   "metadata": {},
   "source": [
    "The datasets first column contains the information about the type of sms, if it's a spam the value is \"spam\" otherwise the value is equal to \"ham\".\n",
    "The second column contain sms message."
   ]
  },
  {
   "cell_type": "code",
   "execution_count": 3,
   "metadata": {},
   "outputs": [
    {
     "data": {
      "text/html": [
       "<div>\n",
       "<style scoped>\n",
       "    .dataframe tbody tr th:only-of-type {\n",
       "        vertical-align: middle;\n",
       "    }\n",
       "\n",
       "    .dataframe tbody tr th {\n",
       "        vertical-align: top;\n",
       "    }\n",
       "\n",
       "    .dataframe thead th {\n",
       "        text-align: right;\n",
       "    }\n",
       "</style>\n",
       "<table border=\"1\" class=\"dataframe\">\n",
       "  <thead>\n",
       "    <tr style=\"text-align: right;\">\n",
       "      <th></th>\n",
       "      <th>type</th>\n",
       "      <th>message</th>\n",
       "      <th>Unnamed: 2</th>\n",
       "      <th>Unnamed: 3</th>\n",
       "      <th>Unnamed: 4</th>\n",
       "    </tr>\n",
       "  </thead>\n",
       "  <tbody>\n",
       "    <tr>\n",
       "      <th>0</th>\n",
       "      <td>ham</td>\n",
       "      <td>Go until jurong point, crazy.. Available only ...</td>\n",
       "      <td>NaN</td>\n",
       "      <td>NaN</td>\n",
       "      <td>NaN</td>\n",
       "    </tr>\n",
       "    <tr>\n",
       "      <th>1</th>\n",
       "      <td>ham</td>\n",
       "      <td>Ok lar... Joking wif u oni...</td>\n",
       "      <td>NaN</td>\n",
       "      <td>NaN</td>\n",
       "      <td>NaN</td>\n",
       "    </tr>\n",
       "    <tr>\n",
       "      <th>2</th>\n",
       "      <td>spam</td>\n",
       "      <td>Free entry in 2 a wkly comp to win FA Cup fina...</td>\n",
       "      <td>NaN</td>\n",
       "      <td>NaN</td>\n",
       "      <td>NaN</td>\n",
       "    </tr>\n",
       "    <tr>\n",
       "      <th>3</th>\n",
       "      <td>ham</td>\n",
       "      <td>U dun say so early hor... U c already then say...</td>\n",
       "      <td>NaN</td>\n",
       "      <td>NaN</td>\n",
       "      <td>NaN</td>\n",
       "    </tr>\n",
       "    <tr>\n",
       "      <th>4</th>\n",
       "      <td>ham</td>\n",
       "      <td>Nah I don't think he goes to usf, he lives aro...</td>\n",
       "      <td>NaN</td>\n",
       "      <td>NaN</td>\n",
       "      <td>NaN</td>\n",
       "    </tr>\n",
       "  </tbody>\n",
       "</table>\n",
       "</div>"
      ],
      "text/plain": [
       "   type                                            message Unnamed: 2  \\\n",
       "0   ham  Go until jurong point, crazy.. Available only ...        NaN   \n",
       "1   ham                      Ok lar... Joking wif u oni...        NaN   \n",
       "2  spam  Free entry in 2 a wkly comp to win FA Cup fina...        NaN   \n",
       "3   ham  U dun say so early hor... U c already then say...        NaN   \n",
       "4   ham  Nah I don't think he goes to usf, he lives aro...        NaN   \n",
       "\n",
       "  Unnamed: 3 Unnamed: 4  \n",
       "0        NaN        NaN  \n",
       "1        NaN        NaN  \n",
       "2        NaN        NaN  \n",
       "3        NaN        NaN  \n",
       "4        NaN        NaN  "
      ]
     },
     "execution_count": 3,
     "metadata": {},
     "output_type": "execute_result"
    }
   ],
   "source": [
    "# Rename column v1 -> type and v2 -> message\n",
    "df.rename(columns={'v1':'type',\n",
    "                   'v2':'message'}, \n",
    "                 inplace=True)\n",
    "df.head()"
   ]
  },
  {
   "cell_type": "code",
   "execution_count": 4,
   "metadata": {},
   "outputs": [
    {
     "name": "stdout",
     "output_type": "stream",
     "text": [
      "Pourcentage of  spam in the dataset: 13.406317300789663%\n"
     ]
    },
    {
     "data": {
      "text/plain": [
       "<matplotlib.axes._subplots.AxesSubplot at 0x28d68cfcba8>"
      ]
     },
     "execution_count": 4,
     "metadata": {},
     "output_type": "execute_result"
    },
    {
     "data": {
      "image/png": "[encoded data removed]",
      "text/plain": [
       "<Figure size 432x288 with 1 Axes>"
      ]
     },
     "metadata": {
      "needs_background": "light"
     },
     "output_type": "display_data"
    }
   ],
   "source": [
    "# Analyze of spam distribution\n",
    "perc_spam = (df[\"type\"].value_counts()['spam']/df.shape[0]) * 100\n",
    "print(f\"Pourcentage of  spam in the dataset: {perc_spam}%\")\n",
    "sns.countplot(df[\"type\"])"
   ]
  },
  {
   "cell_type": "markdown",
   "metadata": {},
   "source": [
    "## Prepare the data for algorithm"
   ]
  },
  {
   "cell_type": "code",
   "execution_count": 5,
   "metadata": {},
   "outputs": [
    {
     "data": {
      "text/plain": [
       "(5572, 2)"
      ]
     },
     "execution_count": 5,
     "metadata": {},
     "output_type": "execute_result"
    }
   ],
   "source": [
    "# Remove unused column\n",
    "df.drop(['Unnamed: 2', 'Unnamed: 3', 'Unnamed: 4'],axis=1,inplace=True)\n",
    "df.shape"
   ]
  },
  {
   "cell_type": "code",
   "execution_count": 6,
   "metadata": {},
   "outputs": [],
   "source": [
    "# Use data label encoder from sklearn to apply a one hot encoding \n",
    "# on the target, all the spam a values are replace by 1 and the ham value\n",
    "# is replace by 0. Machine learning algorithm often require number column\n",
    "from sklearn.preprocessing import LabelEncoder\n",
    "X = df.message\n",
    "Y = df.type\n",
    "Y = LabelEncoder().fit_transform(Y)\n",
    "Y = Y.reshape(-1,1)"
   ]
  },
  {
   "cell_type": "code",
   "execution_count": 7,
   "metadata": {},
   "outputs": [],
   "source": [
    "# Randomly split the dataset in two parts\n",
    "# The first split will be used to \n",
    "from sklearn.model_selection import train_test_split\n",
    "X_train,X_test,Y_train,Y_test = train_test_split(X,Y,test_size=0.2)"
   ]
  },
  {
   "cell_type": "code",
   "execution_count": 8,
   "metadata": {},
   "outputs": [
    {
     "name": "stderr",
     "output_type": "stream",
     "text": [
      "Using TensorFlow backend.\n"
     ]
    },
    {
     "name": "stdout",
     "output_type": "stream",
     "text": [
      "(4457, 200)\n",
      "(1115, 200)\n"
     ]
    }
   ],
   "source": [
    "# Tokenizer\n",
    "# This step transform sentence into vector to be able to compute a Classification using relevant data \n",
    "# We keep only the {max_number} most frequent word to reduce the matrix size\n",
    "from keras.preprocessing.text import Tokenizer\n",
    "import keras\n",
    "max_words = 1000\n",
    "max_len = 200\n",
    "tok = Tokenizer(num_words=max_words)\n",
    "tok.fit_on_texts(X_train)\n",
    "vec = tok.texts_to_sequences(X_train)\n",
    "vec_matrix = keras.preprocessing.sequence.pad_sequences(vec,maxlen=max_len)\n",
    "vec_test = tok.texts_to_sequences(X_test)\n",
    "vec_test_matrix = keras.preprocessing.sequence.pad_sequences(vec_test, maxlen=max_len)\n",
    "print(vec_matrix.shape)\n",
    "print(vec_test_matrix.shape)\n",
    "# As expected we transformed our texte message to a {max_len} values vector"
   ]
  },
  {
   "cell_type": "markdown",
   "metadata": {},
   "source": [
    "## Creation of the neural network model\n",
    "\n",
    "We decide to use an RNN, recurent neural network, using tensorflow\n",
    "\n",
    "Some source I use to understand RNN:\n",
    "- https://www.kaggle.com/shivamb/beginners-guide-to-text-generation-using-lstms\n",
    "- https://towardsdatascience.com/lstm-by-example-using-tensorflow-feb0c1968537\n",
    "- http://colah.github.io/posts/2015-08-Understanding-LSTMs/\n",
    "\n",
    "I first try to find with my own custom parameters but results was pretty bad, I decide to find some existing parameter for my neural network:\n",
    "- https://www.kaggle.com/kredy10/simple-lstm-for-text-classification"
   ]
  },
  {
   "cell_type": "code",
   "execution_count": 9,
   "metadata": {},
   "outputs": [
    {
     "name": "stderr",
     "output_type": "stream",
     "text": [
      "WARNING: Logging before flag parsing goes to stderr.\n",
      "W0710 23:15:08.537194 19720 deprecation_wrapper.py:119] From C:\\Tools\\anaconda3\\envs\\spam\\lib\\site-packages\\keras\\backend\\tensorflow_backend.py:517: The name tf.placeholder is deprecated. Please use tf.compat.v1.placeholder instead.\n",
      "\n",
      "W0710 23:15:08.644209 19720 deprecation_wrapper.py:119] From C:\\Tools\\anaconda3\\envs\\spam\\lib\\site-packages\\keras\\backend\\tensorflow_backend.py:74: The name tf.get_default_graph is deprecated. Please use tf.compat.v1.get_default_graph instead.\n",
      "\n",
      "W0710 23:15:08.648890 19720 deprecation_wrapper.py:119] From C:\\Tools\\anaconda3\\envs\\spam\\lib\\site-packages\\keras\\backend\\tensorflow_backend.py:4138: The name tf.random_uniform is deprecated. Please use tf.random.uniform instead.\n",
      "\n",
      "W0710 23:15:09.190366 19720 deprecation_wrapper.py:119] From C:\\Tools\\anaconda3\\envs\\spam\\lib\\site-packages\\keras\\backend\\tensorflow_backend.py:133: The name tf.placeholder_with_default is deprecated. Please use tf.compat.v1.placeholder_with_default instead.\n",
      "\n",
      "W0710 23:15:09.211553 19720 deprecation.py:506] From C:\\Tools\\anaconda3\\envs\\spam\\lib\\site-packages\\keras\\backend\\tensorflow_backend.py:3445: calling dropout (from tensorflow.python.ops.nn_ops) with keep_prob is deprecated and will be removed in a future version.\n",
      "Instructions for updating:\n",
      "Please use `rate` instead of `keep_prob`. Rate should be set to `rate = 1 - keep_prob`.\n",
      "W0710 23:15:09.316639 19720 deprecation_wrapper.py:119] From C:\\Tools\\anaconda3\\envs\\spam\\lib\\site-packages\\keras\\optimizers.py:790: The name tf.train.Optimizer is deprecated. Please use tf.compat.v1.train.Optimizer instead.\n",
      "\n",
      "W0710 23:15:09.332215 19720 deprecation_wrapper.py:119] From C:\\Tools\\anaconda3\\envs\\spam\\lib\\site-packages\\keras\\backend\\tensorflow_backend.py:3376: The name tf.log is deprecated. Please use tf.math.log instead.\n",
      "\n",
      "W0710 23:15:09.342177 19720 deprecation.py:323] From C:\\Tools\\anaconda3\\envs\\spam\\lib\\site-packages\\tensorflow\\python\\ops\\nn_impl.py:180: add_dispatch_support.<locals>.wrapper (from tensorflow.python.ops.array_ops) is deprecated and will be removed in a future version.\n",
      "Instructions for updating:\n",
      "Use tf.where in 2.0, which has the same broadcast rule as np.where\n"
     ]
    },
    {
     "name": "stdout",
     "output_type": "stream",
     "text": [
      "_________________________________________________________________\n",
      "Layer (type)                 Output Shape              Param #   \n",
      "=================================================================\n",
      "inputs (InputLayer)          (None, 200)               0         \n",
      "_________________________________________________________________\n",
      "embedding_1 (Embedding)      (None, 200, 40)           40000     \n",
      "_________________________________________________________________\n",
      "lstm_1 (LSTM)                (None, 64)                26880     \n",
      "_________________________________________________________________\n",
      "FC1 (Dense)                  (None, 256)               16640     \n",
      "_________________________________________________________________\n",
      "activation_1 (Activation)    (None, 256)               0         \n",
      "_________________________________________________________________\n",
      "dropout_1 (Dropout)          (None, 256)               0         \n",
      "_________________________________________________________________\n",
      "out_layer (Dense)            (None, 1)                 257       \n",
      "_________________________________________________________________\n",
      "activation_2 (Activation)    (None, 1)                 0         \n",
      "=================================================================\n",
      "Total params: 83,777\n",
      "Trainable params: 83,777\n",
      "Non-trainable params: 0\n",
      "_________________________________________________________________\n"
     ]
    }
   ],
   "source": [
    "# Get some core layer to build our network\n",
    "from keras.layers import LSTM, Activation, Dense, Dropout, Input, Embedding\n",
    "def RNN():\n",
    "    inputs = Input(name='inputs',shape=[max_len])\n",
    "    layer = Embedding(max_words, 40, input_length=max_len)(inputs)\n",
    "    layer = LSTM(64)(layer)\n",
    "    layer = Dense(256,name='FC1')(layer)\n",
    "    layer = Activation('relu')(layer)\n",
    "    layer = Dropout(0.5)(layer)\n",
    "    layer = Dense(1,name='out_layer')(layer)\n",
    "    layer = Activation('sigmoid')(layer)\n",
    "    model = keras.models.Model(inputs=inputs, outputs=layer)\n",
    "    return model\n",
    "model = RNN()\n",
    "model.summary()\n",
    "model.compile(loss='binary_crossentropy',optimizer=keras.optimizers.RMSprop(),metrics=['accuracy'])"
   ]
  },
  {
   "cell_type": "markdown",
   "metadata": {},
   "source": [
    "## Train our model\n",
    "\n",
    "Now we need to train our model using our first split of data"
   ]
  },
  {
   "cell_type": "code",
   "execution_count": 10,
   "metadata": {},
   "outputs": [
    {
     "name": "stdout",
     "output_type": "stream",
     "text": [
      "Train on 3565 samples, validate on 892 samples\n",
      "Epoch 1/20\n",
      "3565/3565 [==============================] - 8s 2ms/step - loss: 0.4461 - acc: 0.8320 - val_loss: 0.3296 - val_acc: 0.8643\n",
      "Epoch 2/20\n",
      "3565/3565 [==============================] - 6s 2ms/step - loss: 0.2191 - acc: 0.8999 - val_loss: 0.1495 - val_acc: 0.9260\n",
      "Epoch 3/20\n",
      "3565/3565 [==============================] - 6s 2ms/step - loss: 0.1082 - acc: 0.9719 - val_loss: 0.0782 - val_acc: 0.9888\n",
      "Epoch 4/20\n",
      "3565/3565 [==============================] - 6s 2ms/step - loss: 0.0602 - acc: 0.9854 - val_loss: 0.0370 - val_acc: 0.9899\n",
      "Epoch 5/20\n",
      "3565/3565 [==============================] - 6s 2ms/step - loss: 0.0399 - acc: 0.9882 - val_loss: 0.0523 - val_acc: 0.9888\n"
     ]
    },
    {
     "data": {
      "text/plain": [
       "<keras.callbacks.History at 0x28d68dba048>"
      ]
     },
     "execution_count": 10,
     "metadata": {},
     "output_type": "execute_result"
    }
   ],
   "source": [
    "# The early stopping strategy will stop our training phase if the val_loss does not improve more than a minimal delta\n",
    "# This avoid overfeating and lost of time\n",
    "model.fit(vec_matrix,\n",
    "          Y_train, batch_size=256,\n",
    "          epochs=20,\n",
    "          validation_split=0.2,\n",
    "          callbacks=[keras.callbacks.EarlyStopping(monitor='val_loss',min_delta=0.0001)])"
   ]
  },
  {
   "cell_type": "markdown",
   "metadata": {},
   "source": [
    "## Test our model on the test split"
   ]
  },
  {
   "cell_type": "code",
   "execution_count": 11,
   "metadata": {},
   "outputs": [
    {
     "name": "stdout",
     "output_type": "stream",
     "text": [
      "1115/1115 [==============================] - 1s 911us/step\n"
     ]
    }
   ],
   "source": [
    "accuracy = model.evaluate(vec_test_matrix, Y_test)"
   ]
  },
  {
   "cell_type": "code",
   "execution_count": 12,
   "metadata": {},
   "outputs": [
    {
     "name": "stdout",
     "output_type": "stream",
     "text": [
      "Loss value:0.0697\n",
      "Model accuracy: 0.981\n"
     ]
    }
   ],
   "source": [
    "print(f\"Loss value:{accuracy[0]:.3}\")\n",
    "print(f\"Model accuracy: {accuracy[1]:.3}\")"
   ]
  },
  {
   "cell_type": "markdown",
   "metadata": {},
   "source": [
    "## Compare with traditionnal classifier\n",
    "\n",
    "Now we have our neural network which work. We want to compare the result with some traditonnal classifier."
   ]
  },
  {
   "cell_type": "code",
   "execution_count": 13,
   "metadata": {},
   "outputs": [],
   "source": [
    "# Import two traditionnal classifier\n",
    "from sklearn.neighbors import KNeighborsClassifier\n",
    "from sklearn.svm import SVC"
   ]
  },
  {
   "cell_type": "code",
   "execution_count": 14,
   "metadata": {},
   "outputs": [
    {
     "name": "stderr",
     "output_type": "stream",
     "text": [
      "C:\\Tools\\anaconda3\\envs\\spam\\lib\\site-packages\\ipykernel_launcher.py:5: DataConversionWarning: A column-vector y was passed when a 1d array was expected. Please change the shape of y to (n_samples, ), for example using ravel().\n",
      "  \"\"\"\n",
      "C:\\Tools\\anaconda3\\envs\\spam\\lib\\site-packages\\sklearn\\utils\\validation.py:724: DataConversionWarning: A column-vector y was passed when a 1d array was expected. Please change the shape of y to (n_samples, ), for example using ravel().\n",
      "  y = column_or_1d(y, warn=True)\n"
     ]
    },
    {
     "data": {
      "text/plain": [
       "SVC(C=1.0, cache_size=200, class_weight=None, coef0=0.0,\n",
       "    decision_function_shape='ovr', degree=3, gamma=1.0, kernel='sigmoid',\n",
       "    max_iter=-1, probability=False, random_state=None, shrinking=True,\n",
       "    tol=0.001, verbose=False)"
      ]
     },
     "execution_count": 14,
     "metadata": {},
     "output_type": "execute_result"
    }
   ],
   "source": [
    "# Create the model\n",
    "knc = KNeighborsClassifier(n_neighbors=30)\n",
    "svc_sig = SVC(kernel='sigmoid', gamma=1.0)\n",
    "# Train the model with the data\n",
    "knc.fit(vec_matrix, Y_train)\n",
    "svc_sig.fit(vec_matrix, Y_train)"
   ]
  },
  {
   "cell_type": "code",
   "execution_count": 15,
   "metadata": {},
   "outputs": [],
   "source": [
    "from sklearn.metrics import accuracy_score\n",
    "res_knc = knc.predict(vec_test_matrix)\n",
    "res_svg_sig = svc_sig.predict(vec_test_matrix)\n",
    "knc_score = accuracy_score(Y_test, res_knc)\n",
    "svg_sig_score = accuracy_score(Y_test, res_svg_sig)"
   ]
  },
  {
   "cell_type": "code",
   "execution_count": 22,
   "metadata": {},
   "outputs": [
    {
     "name": "stdout",
     "output_type": "stream",
     "text": [
      "0.8708520179372198\n",
      "0.8663677130044843\n"
     ]
    },
    {
     "data": {
      "text/plain": [
       "<matplotlib.axes._subplots.AxesSubplot at 0x28d03accc50>"
      ]
     },
     "execution_count": 22,
     "metadata": {},
     "output_type": "execute_result"
    },
    {
     "data": {
      "image/png": "[encoded data removed]",
      "text/plain": [
       "<Figure size 432x288 with 1 Axes>"
      ]
     },
     "metadata": {
      "needs_background": "light"
     },
     "output_type": "display_data"
    }
   ],
   "source": [
    "## Conclusion\n",
    "print(knc_score)\n",
    "print(svg_sig_score)\n",
    "sns.barplot(x=['RNN', 'knc', 'svg'], y=[accuracy[1], knc_score, svg_sig_score], alpha=1)\n"
   ]
  },
  {
   "cell_type": "markdown",
   "metadata": {},
   "source": [
    "## Conclusion\n",
    "\n",
    "The best result, I was able to get, is the result obtained from the neural network. It could be because the RNN is more efficient and this case or because the data preparation is more efficient for neural network.\n",
    "\n",
    "We could have tried to add some features on the data like the count of characters, or to use the punctuation marks contains in messages to improve our models."
   ]
  },
  {
   "cell_type": "code",
   "execution_count": null,
   "metadata": {},
   "outputs": [],
   "source": []
  }
 ],
 "metadata": {
  "celltoolbar": "Raw Cell Format",
  "kernelspec": {
   "display_name": "Python 3",
   "language": "python",
   "name": "python3"
  },
  "language_info": {
   "codemirror_mode": {
    "name": "ipython",
    "version": 3
   },
   "file_extension": ".py",
   "mimetype": "text/x-python",
   "name": "python",
   "nbconvert_exporter": "python",
   "pygments_lexer": "ipython3",
   "version": "3.7.3"
  }
 },
 "nbformat": 4,
 "nbformat_minor": 2
}
